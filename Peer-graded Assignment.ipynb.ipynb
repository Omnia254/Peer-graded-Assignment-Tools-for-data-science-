{
 "cells": [
  {
   "cell_type": "markdown",
   "id": "d0f89d48-93ea-46d3-8473-20dfad8a8d01",
   "metadata": {},
   "source": [
    "# My Jupyter Notebook on IBM Watson Studio"
   ]
  },
  {
   "cell_type": "markdown",
   "id": "03550520-92b5-49c4-b6c0-6750d92a8302",
   "metadata": {},
   "source": [
    "### My Name is Omnia Sayed"
   ]
  },
  {
   "cell_type": "markdown",
   "id": "a8b21736-f9c6-4ffd-b9db-0c4c602b44fa",
   "metadata": {
    "jp-MarkdownHeadingCollapsed": true,
    "tags": []
   },
   "source": [
    "##### *I am interested in data science because*"
   ]
  },
  {
   "cell_type": "markdown",
   "id": "62374e73-bc86-4b2c-ae10-dc8fc2171eef",
   "metadata": {},
   "source": [
    "### The following code for summation"
   ]
  },
  {
   "cell_type": "code",
   "execution_count": 3,
   "id": "978eebfa-46d0-4272-9d6b-44d5f6672b89",
   "metadata": {},
   "outputs": [
    {
     "name": "stdout",
     "output_type": "stream",
     "text": [
      "3\n"
     ]
    }
   ],
   "source": [
    "def summ(x,y):\n",
    "    return x+y\n",
    "print(summ(1,2))"
   ]
  },
  {
   "cell_type": "markdown",
   "id": "79b27378-60c1-4df8-bfad-b1a6d8f3cbde",
   "metadata": {},
   "source": [
    "---"
   ]
  },
  {
   "cell_type": "markdown",
   "id": "16086292-5379-4718-a41a-e969b159b728",
   "metadata": {},
   "source": [
    "1. First item\n",
    "2. Second item\n",
    "3. Third item\n",
    "4. Fourth item"
   ]
  },
  {
   "cell_type": "markdown",
   "id": "80af86f5-436b-4cd8-9ad9-1f9da1f94550",
   "metadata": {},
   "source": [
    "\n",
    "---"
   ]
  },
  {
   "cell_type": "markdown",
   "id": "a20d2d10-b91d-4f76-b95c-7d8bbc7255af",
   "metadata": {},
   "source": [
    "![The San Juan Mountains are beautiful!](\"https://www.google.com/imgres?imgurl=https%3A%2F%2Fwww.thoughtco.com%2Fthmb%2FVG5-1LGCmdWyW23Uf7Vr-R_5tqk%3D%2F3504x2336%2Ffilters%3Afill(auto%2C1)%2FGettyImages-116248249-5be59c3cc9e77c00514fed87.jpg&imgrefurl=https%3A%2F%2Fwww.thoughtco.com%2Flink-an-image-on-your-website-3468291&tbnid=7vmxVIaUIXv5QM&vet=12ahUKEwijn9H9quL6AhVPyqQKHYIxBRUQMygFegUIARDoAQ..i&docid=Zk-Co3XtSuDa4M&w=3504&h=2336&q=link%20of%20image&ved=2ahUKEwijn9H9quL6AhVPyqQKHYIxBRUQMygFegUIARDoAQ\")"
   ]
  },
  {
   "cell_type": "markdown",
   "id": "c84d4c03-6d87-4148-b117-d995961a7b68",
   "metadata": {},
   "source": [
    "\n",
    "\n",
    "> This is a blockquote\n"
   ]
  },
  {
   "cell_type": "markdown",
   "id": "8fe61372-5fd2-45c2-89eb-1b5ddc5c12aa",
   "metadata": {},
   "source": [
    "<https://www.markdownguide.org>\n",
    "<fake@example.com>"
   ]
  },
  {
   "cell_type": "code",
   "execution_count": null,
   "id": "b43319c6-6513-4bd4-96bf-c71228d1aa85",
   "metadata": {},
   "outputs": [],
   "source": []
  }
 ],
 "metadata": {
  "kernelspec": {
   "display_name": "Python",
   "language": "python",
   "name": "conda-env-python-py"
  },
  "language_info": {
   "codemirror_mode": {
    "name": "ipython",
    "version": 3
   },
   "file_extension": ".py",
   "mimetype": "text/x-python",
   "name": "python",
   "nbconvert_exporter": "python",
   "pygments_lexer": "ipython3",
   "version": "3.7.12"
  }
 },
 "nbformat": 4,
 "nbformat_minor": 5
}
